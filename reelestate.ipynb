{
 "cells": [
  {
   "cell_type": "code",
   "execution_count": null,
   "metadata": {},
   "outputs": [],
   "source": [
    "import pandas as pd\n",
    "data = []\n",
    "column_names = ['Weekly rank', 'Title', 'Country', 'Director', 'Distributor', 'Screens (week)', 'Gross revenue (week)', 'Tickets (week)', 'Screens (all-time)', 'Gross revenue (all-time)', 'Tickets (all-time)', 'Days since premiere']\n",
    "for i in range(52): \n",
    "    df = pd.read_excel('sources/icadata/rankings_2017.xlsx', sheet_name = 'ACUMULADOS', header = None, skiprows = 6 + i * 27, nrows = 20, names=column_names, index_col=None)\n",
    "    df['Week'] = i+1\n",
    "    data.append(df)\n"
   ]
  },
  {
   "cell_type": "raw",
   "metadata": {},
   "source": [
    "from IPython.display import display\n",
    "for i in data:\n",
    "    display(i)"
   ]
  },
  {
   "cell_type": "code",
   "execution_count": null,
   "metadata": {},
   "outputs": [],
   "source": [
    "portugal_df = pd.concat(data, ignore_index=True)"
   ]
  },
  {
   "cell_type": "raw",
   "metadata": {},
   "source": [
    "from IPython.display import display\n",
    "display(portugal_df)"
   ]
  },
  {
   "cell_type": "code",
   "execution_count": null,
   "metadata": {},
   "outputs": [],
   "source": [
    "import matplotlib.pyplot as plt"
   ]
  },
  {
   "cell_type": "code",
   "execution_count": null,
   "metadata": {},
   "outputs": [],
   "source": [
    "grouped = portugal_df.groupby('Title') \n",
    "plt.xlabel('Week')\n",
    "for name, group in grouped:\n",
    "    group[\"Weekly drop (revenue)\"] = group[\"Gross revenue (week)\"].pct_change()\n",
    "    display(group)\n",
    "    x = group[\"Week\"]\n",
    "    plt.ylabel('Gross revenue (week)')\n",
    "    y = group[\"Gross revenue (week)\"]\n",
    "    plt.plot(x,y, marker='o')\n",
    "    plt.show()\n",
    "    plt.ylabel('Screens (week)')\n",
    "    y = group[\"Screens (week)\"]\n",
    "    plt.plot(x,y, marker='o')\n",
    "    plt.show()\n",
    "    "
   ]
  },
  {
   "cell_type": "code",
   "execution_count": null,
   "metadata": {},
   "outputs": [],
   "source": []
  }
 ],
 "metadata": {
  "kernelspec": {
   "display_name": "Python 3",
   "language": "python",
   "name": "python3"
  },
  "language_info": {
   "codemirror_mode": {
    "name": "ipython",
    "version": 3
   },
   "file_extension": ".py",
   "mimetype": "text/x-python",
   "name": "python",
   "nbconvert_exporter": "python",
   "pygments_lexer": "ipython3",
   "version": "3.8.5"
  }
 },
 "nbformat": 4,
 "nbformat_minor": 4
}
